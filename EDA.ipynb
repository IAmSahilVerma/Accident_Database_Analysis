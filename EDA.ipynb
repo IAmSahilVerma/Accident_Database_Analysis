{
 "cells": [
  {
   "cell_type": "code",
   "execution_count": null,
   "metadata": {},
   "outputs": [],
   "source": [
    "import sqlite3\n",
    "import numpy as np\n",
    "import seaborn as sns\n",
    "import pandas as pd\n",
    "import matplotlib.pyplot as plt"
   ]
  },
  {
   "cell_type": "code",
   "execution_count": 2,
   "metadata": {},
   "outputs": [],
   "source": [
    "database_filepath = \"./accident_data_v1.0.0_2023.db\""
   ]
  },
  {
   "cell_type": "code",
   "execution_count": 5,
   "metadata": {},
   "outputs": [
    {
     "name": "stdout",
     "output_type": "stream",
     "text": [
      "[('accident',), ('casualty',), ('vehicle',), ('lsoa',)]\n"
     ]
    }
   ],
   "source": [
    "with sqlite3.connect(database_filepath) as conn:\n",
    "    cursor = conn.cursor()\n",
    "    query = \"\"\"SELECT name FROM sqlite_master WHERE type='table';\"\"\"\n",
    "    res = cursor.execute(query).fetchall()\n",
    "    print(res)\n",
    "    cursor.close()"
   ]
  },
  {
   "cell_type": "code",
   "execution_count": 12,
   "metadata": {},
   "outputs": [],
   "source": [
    "output = []\n",
    "table_names = ['accident', 'casualty', 'vehicle', 'lsoa']\n",
    "with sqlite3.connect(database=database_filepath) as conn:\n",
    "    cursor = conn.cursor()\n",
    "    for table_name in table_names:\n",
    "        query = f\"PRAGMA table_info({table_name});\"\n",
    "        res = cursor.execute(query).fetchall()\n",
    "        output.append(res)\n",
    "    cursor.close()"
   ]
  },
  {
   "cell_type": "code",
   "execution_count": 17,
   "metadata": {},
   "outputs": [
    {
     "name": "stdout",
     "output_type": "stream",
     "text": [
      "ACCIDENT\n",
      "-----------------------\n"
     ]
    },
    {
     "data": {
      "text/plain": [
       "[(0, 'accident_index', '', 0, None, 1),\n",
       " (1, 'accident_year', '', 0, None, 0),\n",
       " (2, 'accident_reference', '', 0, None, 0),\n",
       " (3, 'location_easting_osgr', '', 0, None, 0),\n",
       " (4, 'location_northing_osgr', '', 0, None, 0),\n",
       " (5, 'longitude', '', 0, None, 0),\n",
       " (6, 'latitude', '', 0, None, 0),\n",
       " (7, 'police_force', '', 0, None, 0),\n",
       " (8, 'accident_severity', '', 0, None, 0),\n",
       " (9, 'number_of_vehicles', '', 0, None, 0),\n",
       " (10, 'number_of_casualties', '', 0, None, 0),\n",
       " (11, 'date', '', 0, None, 0),\n",
       " (12, 'day_of_week', '', 0, None, 0),\n",
       " (13, 'time', '', 0, None, 0),\n",
       " (14, 'local_authority_district', '', 0, None, 0),\n",
       " (15, 'local_authority_ons_district', '', 0, None, 0),\n",
       " (16, 'local_authority_highway', '', 0, None, 0),\n",
       " (17, 'first_road_class', '', 0, None, 0),\n",
       " (18, 'first_road_number', '', 0, None, 0),\n",
       " (19, 'road_type', '', 0, None, 0),\n",
       " (20, 'speed_limit', '', 0, None, 0),\n",
       " (21, 'junction_detail', '', 0, None, 0),\n",
       " (22, 'junction_control', '', 0, None, 0),\n",
       " (23, 'second_road_class', '', 0, None, 0),\n",
       " (24, 'second_road_number', '', 0, None, 0),\n",
       " (25, 'pedestrian_crossing_human_control', '', 0, None, 0),\n",
       " (26, 'pedestrian_crossing_physical_facilities', '', 0, None, 0),\n",
       " (27, 'light_conditions', '', 0, None, 0),\n",
       " (28, 'weather_conditions', '', 0, None, 0),\n",
       " (29, 'road_surface_conditions', '', 0, None, 0),\n",
       " (30, 'special_conditions_at_site', '', 0, None, 0),\n",
       " (31, 'carriageway_hazards', '', 0, None, 0),\n",
       " (32, 'urban_or_rural_area', '', 0, None, 0),\n",
       " (33, 'did_police_officer_attend_scene_of_accident', '', 0, None, 0),\n",
       " (34, 'trunk_road_flag', '', 0, None, 0),\n",
       " (35, 'lsoa_of_accident_location', '', 0, None, 0)]"
      ]
     },
     "execution_count": 17,
     "metadata": {},
     "output_type": "execute_result"
    }
   ],
   "source": [
    "print(\"ACCIDENT\")\n",
    "print(\"-----------------------\")\n",
    "output[0]"
   ]
  },
  {
   "cell_type": "code",
   "execution_count": 18,
   "metadata": {},
   "outputs": [
    {
     "name": "stdout",
     "output_type": "stream",
     "text": [
      "CASUALTY\n",
      "-----------------------\n"
     ]
    },
    {
     "data": {
      "text/plain": [
       "[(0, 'casualty_index', '', 0, None, 1),\n",
       " (1, 'accident_index', '', 0, None, 0),\n",
       " (2, 'accident_year', '', 0, None, 0),\n",
       " (3, 'accident_reference', '', 0, None, 0),\n",
       " (4, 'vehicle_reference', '', 0, None, 0),\n",
       " (5, 'casualty_reference', '', 0, None, 0),\n",
       " (6, 'casualty_class', '', 0, None, 0),\n",
       " (7, 'sex_of_casualty', '', 0, None, 0),\n",
       " (8, 'age_of_casualty', '', 0, None, 0),\n",
       " (9, 'age_band_of_casualty', '', 0, None, 0),\n",
       " (10, 'casualty_severity', '', 0, None, 0),\n",
       " (11, 'pedestrian_location', '', 0, None, 0),\n",
       " (12, 'pedestrian_movement', '', 0, None, 0),\n",
       " (13, 'car_passenger', '', 0, None, 0),\n",
       " (14, 'bus_or_coach_passenger', '', 0, None, 0),\n",
       " (15, 'pedestrian_road_maintenance_worker', '', 0, None, 0),\n",
       " (16, 'casualty_type', '', 0, None, 0),\n",
       " (17, 'casualty_home_area_type', '', 0, None, 0),\n",
       " (18, 'casualty_imd_decile', '', 0, None, 0)]"
      ]
     },
     "execution_count": 18,
     "metadata": {},
     "output_type": "execute_result"
    }
   ],
   "source": [
    "print(\"CASUALTY\")\n",
    "print(\"-----------------------\")\n",
    "output[1]"
   ]
  },
  {
   "cell_type": "code",
   "execution_count": 19,
   "metadata": {},
   "outputs": [
    {
     "name": "stdout",
     "output_type": "stream",
     "text": [
      "VEHICLE\n",
      "-----------------------\n"
     ]
    },
    {
     "data": {
      "text/plain": [
       "[(0, 'vehicle_index', '', 0, None, 1),\n",
       " (1, 'accident_index', '', 0, None, 0),\n",
       " (2, 'accident_year', '', 0, None, 0),\n",
       " (3, 'accident_reference', '', 0, None, 0),\n",
       " (4, 'vehicle_reference', '', 0, None, 0),\n",
       " (5, 'vehicle_type', '', 0, None, 0),\n",
       " (6, 'towing_and_articulation', '', 0, None, 0),\n",
       " (7, 'vehicle_manoeuvre', '', 0, None, 0),\n",
       " (8, 'vehicle_direction_from', '', 0, None, 0),\n",
       " (9, 'vehicle_direction_to', '', 0, None, 0),\n",
       " (10, 'vehicle_location_restricted_lane', '', 0, None, 0),\n",
       " (11, 'junction_location', '', 0, None, 0),\n",
       " (12, 'skidding_and_overturning', '', 0, None, 0),\n",
       " (13, 'hit_object_in_carriageway', '', 0, None, 0),\n",
       " (14, 'vehicle_leaving_carriageway', '', 0, None, 0),\n",
       " (15, 'hit_object_off_carriageway', '', 0, None, 0),\n",
       " (16, 'first_point_of_impact', '', 0, None, 0),\n",
       " (17, 'vehicle_left_hand_drive', '', 0, None, 0),\n",
       " (18, 'journey_purpose_of_driver', '', 0, None, 0),\n",
       " (19, 'sex_of_driver', '', 0, None, 0),\n",
       " (20, 'age_of_driver', '', 0, None, 0),\n",
       " (21, 'age_band_of_driver', '', 0, None, 0),\n",
       " (22, 'engine_capacity_cc', '', 0, None, 0),\n",
       " (23, 'propulsion_code', '', 0, None, 0),\n",
       " (24, 'age_of_vehicle', '', 0, None, 0),\n",
       " (25, 'generic_make_model', '', 0, None, 0),\n",
       " (26, 'driver_imd_decile', '', 0, None, 0),\n",
       " (27, 'driver_home_area_type', '', 0, None, 0)]"
      ]
     },
     "execution_count": 19,
     "metadata": {},
     "output_type": "execute_result"
    }
   ],
   "source": [
    "print(\"VEHICLE\")\n",
    "print(\"-----------------------\")\n",
    "output[2]"
   ]
  },
  {
   "cell_type": "code",
   "execution_count": 20,
   "metadata": {},
   "outputs": [
    {
     "name": "stdout",
     "output_type": "stream",
     "text": [
      "LSOA\n",
      "-----------------------\n"
     ]
    },
    {
     "data": {
      "text/plain": [
       "[(0, 'objectid', '', 0, None, 1),\n",
       " (1, 'lsoa01cd', '', 0, None, 0),\n",
       " (2, 'lsoa01nm', '', 0, None, 0),\n",
       " (3, 'lsoa01nmw', '', 0, None, 0),\n",
       " (4, 'shape__area', '', 0, None, 0),\n",
       " (5, 'shape__length', '', 0, None, 0),\n",
       " (6, 'globalid', '', 0, None, 0)]"
      ]
     },
     "execution_count": 20,
     "metadata": {},
     "output_type": "execute_result"
    }
   ],
   "source": [
    "print(\"LSOA\")\n",
    "print(\"-----------------------\")\n",
    "output[3]"
   ]
  },
  {
   "cell_type": "code",
   "execution_count": null,
   "metadata": {},
   "outputs": [],
   "source": []
  }
 ],
 "metadata": {
  "kernelspec": {
   "display_name": "venv",
   "language": "python",
   "name": "python3"
  },
  "language_info": {
   "codemirror_mode": {
    "name": "ipython",
    "version": 3
   },
   "file_extension": ".py",
   "mimetype": "text/x-python",
   "name": "python",
   "nbconvert_exporter": "python",
   "pygments_lexer": "ipython3",
   "version": "3.10.16"
  }
 },
 "nbformat": 4,
 "nbformat_minor": 2
}
