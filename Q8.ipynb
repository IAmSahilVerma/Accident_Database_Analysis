{
 "cells": [
  {
   "cell_type": "markdown",
   "id": "64b50056",
   "metadata": {},
   "source": [
    "Construct a social network using the provided data and visualise the network, then provide the basic network characteristics, including numbers of nodes and edges, network density, average degree."
   ]
  }
 ],
 "metadata": {
  "language_info": {
   "name": "python"
  }
 },
 "nbformat": 4,
 "nbformat_minor": 5
}
